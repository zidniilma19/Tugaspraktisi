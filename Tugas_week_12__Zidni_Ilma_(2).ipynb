{
  "nbformat": 4,
  "nbformat_minor": 0,
  "metadata": {
    "colab": {
      "provenance": [],
      "include_colab_link": true
    },
    "kernelspec": {
      "name": "python3",
      "display_name": "Python 3"
    },
    "language_info": {
      "name": "python"
    }
  },
  "cells": [
    {
      "cell_type": "markdown",
      "metadata": {
        "id": "view-in-github",
        "colab_type": "text"
      },
      "source": [
        "<a href=\"https://colab.research.google.com/github/zidniilma19/Tugaspraktisi/blob/main/Tugas_week_12__Zidni_Ilma_(2).ipynb\" target=\"_parent\"><img src=\"https://colab.research.google.com/assets/colab-badge.svg\" alt=\"Open In Colab\"/></a>"
      ]
    },
    {
      "cell_type": "markdown",
      "source": [
        "Soal Nomeer 2"
      ],
      "metadata": {
        "id": "Q8sMkjZnBAkM"
      }
    },
    {
      "cell_type": "code",
      "execution_count": null,
      "metadata": {
        "colab": {
          "base_uri": "https://localhost:8080/"
        },
        "id": "IxIKg2bc6hhg",
        "outputId": "d016f971-99fd-4a6b-e8d4-f0b1ab7fef59"
      },
      "outputs": [
        {
          "output_type": "stream",
          "name": "stdout",
          "text": [
            "Statistik Deskriptif:\n",
            "Rata-rata: 42.416666666666664\n",
            "Deviasi standar: 2.7525240941522915\n",
            "\n",
            "Uji t-student:\n",
            "Statistik uji: -1.197514406182311\n",
            "Nilai p: 0.2562743334265899\n"
          ]
        }
      ],
      "source": [
        "\n",
        "import pandas as pd\n",
        "import numpy as np\n",
        "from scipy import stats\n",
        "\n",
        "\n",
        "data = [40, 45, 38, 43, 47, 39, 41, 44, 42, 46, 40, 44]\n",
        "\n",
        "print(\"Statistik Deskriptif:\")\n",
        "print(\"Rata-rata:\", np.mean(data))\n",
        "print(\"Deviasi standar:\", np.std(data))\n",
        "\n",
        "mu0 = 46  # Hipotesis nol (rata-rata = 46 kWh/tahun)\n",
        "alpha = 0.05\n",
        "\n",
        "#t-student\n",
        "t_stat, p_value = stats.ttest_ind(data, mu0)\n",
        "\n",
        "print(\"\\nUji t-student:\")\n",
        "print(\"Statistik uji:\", t_stat)\n",
        "print(\"Nilai p:\", p_value)\n",
        "\n",
        "\n"
      ]
    },
    {
      "cell_type": "markdown",
      "source": [
        "Kesimpulan: Tidak terdapat bukti statistik yang cukup untuk menolak hipotesis nol.\n",
        "Rata-rata konsumsi tahunan vacuum cleaner Edison Electronic **tidak dapat disimpulkan**."
      ],
      "metadata": {
        "id": "4Dw75dc4BXey"
      }
    },
    {
      "cell_type": "markdown",
      "source": [
        "soal nomer 1"
      ],
      "metadata": {
        "id": "5EBoM4rABEOw"
      }
    },
    {
      "cell_type": "code",
      "source": [
        "\n",
        "\n",
        "data = [7.7, 7.9, 7.6, 7.5, 8.1, 7.4, 8.2, 7.8, 8.0, 7.7]\n",
        "\n",
        "print(\"Statistik Deskriptif:\")\n",
        "print(\"Rata-rata:\", np.mean(data))\n",
        "print(\"Deviasi standar:\", np.std(data))\n",
        "\n",
        "mu0 = 8\n",
        "alpha = 0.01\n",
        "\n",
        "t_stat, p_value = stats.ttest_ind(data, mu0)\n",
        "\n",
        "print(\"\\nUji z-score:\")\n",
        "print(\"Statistik uji:\", t_stat)\n",
        "print(\"Nilai p:\", p_value)\n",
        "if p_value < alpha:\n",
        "    print(\"\\nKesimpulan: Terdapat bukti statistik yang cukup untuk menolak hipotesis nol.\")\n",
        "    print(\"Rata-rata breaking strength peralatan olahraga berbeda dari 8 kg.\")\n",
        "else:\n",
        "    print(\"\\nKesimpulan: Tidak terdapat bukti statistik yang cukup untuk menolak hipotesis nol.\")\n",
        "    print(\"Rata-rata breaking strength peralatan olahraga tidak dapat disimpulkan.\")\n"
      ],
      "metadata": {
        "colab": {
          "base_uri": "https://localhost:8080/"
        },
        "id": "GIEg7w8O8v61",
        "outputId": "ceb807c2-eb3c-401e-d709-6753f06443ab"
      },
      "execution_count": null,
      "outputs": [
        {
          "output_type": "stream",
          "name": "stdout",
          "text": [
            "Statistik Deskriptif:\n",
            "Rata-rata: 7.790000000000001\n",
            "Deviasi standar: 0.24677925358506111\n",
            "\n",
            "Uji z-score:\n",
            "Statistik uji: -0.7697249437482255\n",
            "Nilai p: 0.46118707371205536\n",
            "\n",
            "Kesimpulan: Tidak terdapat bukti statistik yang cukup untuk menolak hipotesis nol.\n",
            "Rata-rata breaking strength peralatan olahraga tidak dapat disimpulkan.\n"
          ]
        }
      ]
    }
  ]
}